{
 "cells": [
  {
   "cell_type": "markdown",
   "metadata": {
    "collapsed": true
   },
   "source": [
    "<h3 style=\"color:#B61919 ; text-align:center;\">Quick R Review</h3>\n",
    "@author Annice Najafi\n",
    "<h6>Summer 2022</h6>\n",
    "<h6>Texas A&M University</h6>\n",
    "__________________________________________________________________________________________________________________________________________________________________________"
   ]
  },
  {
   "cell_type": "markdown",
   "metadata": {},
   "source": [
    "<h3>Section I: Variables</h3><br>\n",
    "<ul>\n",
    "    <li>Variables in R can be assigned using either \"->\" or equal \"=\" operators</li>\n",
    "    <li>There is no need to define the type of variable - R is a <em>dynamically typed</em> program</li>\n",
    "    </ul>"
   ]
  },
  {
   "cell_type": "code",
   "execution_count": 70,
   "metadata": {},
   "outputs": [],
   "source": [
    "#Define a variable named a that contains the value 2\n",
    "a <- 2\n",
    "#or\n",
    "a = 2\n",
    "#Define a variable that has a string\n",
    "b <- \"annice\"\n",
    "\n",
    "c<- 15.49"
   ]
  },
  {
   "cell_type": "markdown",
   "metadata": {},
   "source": [
    "<h6>matrix</h6>"
   ]
  },
  {
   "cell_type": "code",
   "execution_count": 71,
   "metadata": {},
   "outputs": [],
   "source": [
    "d <- matrix(0, nrow = 3, ncol = 4)"
   ]
  },
  {
   "cell_type": "code",
   "execution_count": 72,
   "metadata": {
    "scrolled": true
   },
   "outputs": [
    {
     "data": {
      "text/html": [
       "<table>\n",
       "<tbody>\n",
       "\t<tr><td>0</td><td>0</td><td>0</td><td>0</td></tr>\n",
       "\t<tr><td>0</td><td>0</td><td>0</td><td>0</td></tr>\n",
       "\t<tr><td>0</td><td>0</td><td>0</td><td>0</td></tr>\n",
       "</tbody>\n",
       "</table>\n"
      ],
      "text/latex": [
       "\\begin{tabular}{llll}\n",
       "\t 0 & 0 & 0 & 0\\\\\n",
       "\t 0 & 0 & 0 & 0\\\\\n",
       "\t 0 & 0 & 0 & 0\\\\\n",
       "\\end{tabular}\n"
      ],
      "text/markdown": [
       "\n",
       "| 0 | 0 | 0 | 0 |\n",
       "| 0 | 0 | 0 | 0 |\n",
       "| 0 | 0 | 0 | 0 |\n",
       "\n"
      ],
      "text/plain": [
       "     [,1] [,2] [,3] [,4]\n",
       "[1,] 0    0    0    0   \n",
       "[2,] 0    0    0    0   \n",
       "[3,] 0    0    0    0   "
      ]
     },
     "metadata": {},
     "output_type": "display_data"
    }
   ],
   "source": [
    "d"
   ]
  },
  {
   "cell_type": "markdown",
   "metadata": {},
   "source": [
    "<h6>Vector</h6>"
   ]
  },
  {
   "cell_type": "code",
   "execution_count": 73,
   "metadata": {},
   "outputs": [],
   "source": [
    "#This is called a vector\n",
    "e <- c(1, 2, 1)\n",
    "f <- c(1, 2, 2, b)"
   ]
  },
  {
   "cell_type": "markdown",
   "metadata": {},
   "source": [
    "<h6>Logical (Boolean)</h6>"
   ]
  },
  {
   "cell_type": "code",
   "execution_count": 74,
   "metadata": {},
   "outputs": [],
   "source": [
    "g <- TRUE"
   ]
  },
  {
   "cell_type": "markdown",
   "metadata": {},
   "source": [
    "<h6>Check type of variable</h6>"
   ]
  },
  {
   "cell_type": "code",
   "execution_count": 75,
   "metadata": {},
   "outputs": [
    {
     "name": "stdout",
     "output_type": "stream",
     "text": [
      "The class of variable a is: numeric \n",
      "The class of variable a is: character \n",
      "The class of variable a is: numeric \n",
      "The class of variable a is: matrix \n",
      "The class of variable a is: numeric \n",
      "The class of variable a is: character \n",
      "The class of variable a is: logical \n"
     ]
    }
   ],
   "source": [
    "#Check for type of variable\n",
    "cat(\"The class of variable a is:\", class(a), \"\\n\")\n",
    "cat(\"The class of variable a is:\", class(b), \"\\n\")\n",
    "cat(\"The class of variable a is:\", class(c), \"\\n\")\n",
    "cat(\"The class of variable a is:\", class(d), \"\\n\")\n",
    "cat(\"The class of variable a is:\", class(e), \"\\n\")\n",
    "cat(\"The class of variable a is:\", class(f), \"\\n\") \n",
    "cat(\"The class of variable a is:\", class(g), \"\\n\") "
   ]
  },
  {
   "cell_type": "markdown",
   "metadata": {},
   "source": [
    "<h6>List</h6>"
   ]
  },
  {
   "cell_type": "code",
   "execution_count": 76,
   "metadata": {},
   "outputs": [
    {
     "data": {
      "text/html": [
       "<ol>\n",
       "\t<li><ol class=list-inline>\n",
       "\t<li>1</li>\n",
       "\t<li>2</li>\n",
       "\t<li>1</li>\n",
       "</ol>\n",
       "</li>\n",
       "</ol>\n"
      ],
      "text/latex": [
       "\\begin{enumerate}\n",
       "\\item \\begin{enumerate*}\n",
       "\\item 1\n",
       "\\item 2\n",
       "\\item 1\n",
       "\\end{enumerate*}\n",
       "\n",
       "\\end{enumerate}\n"
      ],
      "text/markdown": [
       "1. 1. 1\n",
       "2. 2\n",
       "3. 1\n",
       "\n",
       "\n",
       "\n",
       "\n",
       "\n"
      ],
      "text/plain": [
       "[[1]]\n",
       "[1] 1 2 1\n"
      ]
     },
     "metadata": {},
     "output_type": "display_data"
    }
   ],
   "source": [
    "#To make a list\n",
    "list(e)"
   ]
  },
  {
   "cell_type": "code",
   "execution_count": 77,
   "metadata": {},
   "outputs": [],
   "source": [
    "h<- list(f) #Note the type conversin to character"
   ]
  },
  {
   "cell_type": "code",
   "execution_count": 78,
   "metadata": {},
   "outputs": [
    {
     "data": {
      "text/html": [
       "<ol class=list-inline>\n",
       "\t<li>'1'</li>\n",
       "\t<li>'2'</li>\n",
       "\t<li>'1'</li>\n",
       "</ol>\n"
      ],
      "text/latex": [
       "\\begin{enumerate*}\n",
       "\\item '1'\n",
       "\\item '2'\n",
       "\\item '1'\n",
       "\\end{enumerate*}\n"
      ],
      "text/markdown": [
       "1. '1'\n",
       "2. '2'\n",
       "3. '1'\n",
       "\n",
       "\n"
      ],
      "text/plain": [
       "[1] \"1\" \"2\" \"1\""
      ]
     },
     "metadata": {},
     "output_type": "display_data"
    }
   ],
   "source": [
    "i <- as.character(e) #To convert to character\n",
    "i"
   ]
  },
  {
   "cell_type": "code",
   "execution_count": 79,
   "metadata": {},
   "outputs": [
    {
     "data": {
      "text/html": [
       "<ol class=list-inline>\n",
       "\t<li>'1'</li>\n",
       "\t<li>'2'</li>\n",
       "\t<li>'1'</li>\n",
       "</ol>\n"
      ],
      "text/latex": [
       "\\begin{enumerate*}\n",
       "\\item '1'\n",
       "\\item '2'\n",
       "\\item '1'\n",
       "\\end{enumerate*}\n"
      ],
      "text/markdown": [
       "1. '1'\n",
       "2. '2'\n",
       "3. '1'\n",
       "\n",
       "\n"
      ],
      "text/plain": [
       "[1] \"1\" \"2\" \"1\""
      ]
     },
     "metadata": {},
     "output_type": "display_data"
    }
   ],
   "source": [
    "#To go back from list to vector\n",
    "as.vector(i)"
   ]
  },
  {
   "cell_type": "code",
   "execution_count": 80,
   "metadata": {},
   "outputs": [
    {
     "data": {
      "text/html": [
       "'1'"
      ],
      "text/latex": [
       "'1'"
      ],
      "text/markdown": [
       "'1'"
      ],
      "text/plain": [
       "[1] \"1\""
      ]
     },
     "metadata": {},
     "output_type": "display_data"
    }
   ],
   "source": [
    "#Want to extract an element from a list or vector:\n",
    "f[1]"
   ]
  },
  {
   "cell_type": "code",
   "execution_count": 81,
   "metadata": {},
   "outputs": [
    {
     "data": {
      "text/html": [
       "'2'"
      ],
      "text/latex": [
       "'2'"
      ],
      "text/markdown": [
       "'2'"
      ],
      "text/plain": [
       "[1] \"2\""
      ]
     },
     "metadata": {},
     "output_type": "display_data"
    }
   ],
   "source": [
    "i[2]"
   ]
  },
  {
   "cell_type": "code",
   "execution_count": 82,
   "metadata": {},
   "outputs": [],
   "source": [
    "#To remove elements\n",
    "h[length(h)]<-NULL"
   ]
  },
  {
   "cell_type": "markdown",
   "metadata": {},
   "source": [
    "<h6>Dataframe</h6>"
   ]
  },
  {
   "cell_type": "code",
   "execution_count": 85,
   "metadata": {},
   "outputs": [
    {
     "data": {
      "text/html": [
       "<table>\n",
       "<thead><tr><th scope=col>e</th><th scope=col>e.1</th></tr></thead>\n",
       "<tbody>\n",
       "\t<tr><td>1</td><td>1</td></tr>\n",
       "\t<tr><td>2</td><td>2</td></tr>\n",
       "\t<tr><td>1</td><td>1</td></tr>\n",
       "</tbody>\n",
       "</table>\n"
      ],
      "text/latex": [
       "\\begin{tabular}{r|ll}\n",
       " e & e.1\\\\\n",
       "\\hline\n",
       "\t 1 & 1\\\\\n",
       "\t 2 & 2\\\\\n",
       "\t 1 & 1\\\\\n",
       "\\end{tabular}\n"
      ],
      "text/markdown": [
       "\n",
       "| e | e.1 |\n",
       "|---|---|\n",
       "| 1 | 1 |\n",
       "| 2 | 2 |\n",
       "| 1 | 1 |\n",
       "\n"
      ],
      "text/plain": [
       "  e e.1\n",
       "1 1 1  \n",
       "2 2 2  \n",
       "3 1 1  "
      ]
     },
     "metadata": {},
     "output_type": "display_data"
    }
   ],
   "source": [
    "#Combine vectors into a dataframe\n",
    "df <- data.frame(e, e)\n",
    "df"
   ]
  },
  {
   "cell_type": "code",
   "execution_count": 87,
   "metadata": {},
   "outputs": [
    {
     "data": {
      "text/html": [
       "<table>\n",
       "<thead><tr><th scope=col>vec 1</th><th scope=col>vec 2</th></tr></thead>\n",
       "<tbody>\n",
       "\t<tr><td>1</td><td>1</td></tr>\n",
       "\t<tr><td>2</td><td>2</td></tr>\n",
       "\t<tr><td>1</td><td>1</td></tr>\n",
       "</tbody>\n",
       "</table>\n"
      ],
      "text/latex": [
       "\\begin{tabular}{r|ll}\n",
       " vec 1 & vec 2\\\\\n",
       "\\hline\n",
       "\t 1 & 1\\\\\n",
       "\t 2 & 2\\\\\n",
       "\t 1 & 1\\\\\n",
       "\\end{tabular}\n"
      ],
      "text/markdown": [
       "\n",
       "| vec 1 | vec 2 |\n",
       "|---|---|\n",
       "| 1 | 1 |\n",
       "| 2 | 2 |\n",
       "| 1 | 1 |\n",
       "\n"
      ],
      "text/plain": [
       "  vec 1 vec 2\n",
       "1 1     1    \n",
       "2 2     2    \n",
       "3 1     1    "
      ]
     },
     "metadata": {},
     "output_type": "display_data"
    }
   ],
   "source": [
    "#Set column names\n",
    "colnames(df)<-c(\"vec 1\", \"vec 2\")\n",
    "df"
   ]
  },
  {
   "cell_type": "code",
   "execution_count": 88,
   "metadata": {},
   "outputs": [],
   "source": [
    "#add a new column \n",
    "df[\"minions\"]<-c(\"Kevin\", \"Stuart\", \"Bob\")"
   ]
  },
  {
   "cell_type": "code",
   "execution_count": 89,
   "metadata": {},
   "outputs": [
    {
     "data": {
      "text/html": [
       "<table>\n",
       "<thead><tr><th scope=col>vec 1</th><th scope=col>vec 2</th><th scope=col>minions</th></tr></thead>\n",
       "<tbody>\n",
       "\t<tr><td>1     </td><td>1     </td><td>Kevin </td></tr>\n",
       "\t<tr><td>2     </td><td>2     </td><td>Stuart</td></tr>\n",
       "\t<tr><td>1     </td><td>1     </td><td>Bob   </td></tr>\n",
       "</tbody>\n",
       "</table>\n"
      ],
      "text/latex": [
       "\\begin{tabular}{r|lll}\n",
       " vec 1 & vec 2 & minions\\\\\n",
       "\\hline\n",
       "\t 1      & 1      & Kevin \\\\\n",
       "\t 2      & 2      & Stuart\\\\\n",
       "\t 1      & 1      & Bob   \\\\\n",
       "\\end{tabular}\n"
      ],
      "text/markdown": [
       "\n",
       "| vec 1 | vec 2 | minions |\n",
       "|---|---|---|\n",
       "| 1      | 1      | Kevin  |\n",
       "| 2      | 2      | Stuart |\n",
       "| 1      | 1      | Bob    |\n",
       "\n"
      ],
      "text/plain": [
       "  vec 1 vec 2 minions\n",
       "1 1     1     Kevin  \n",
       "2 2     2     Stuart \n",
       "3 1     1     Bob    "
      ]
     },
     "metadata": {},
     "output_type": "display_data"
    }
   ],
   "source": [
    "df"
   ]
  },
  {
   "cell_type": "code",
   "execution_count": 90,
   "metadata": {},
   "outputs": [],
   "source": [
    "#Erase a column\n",
    "df[\"vec 1\"]<-NULL"
   ]
  },
  {
   "cell_type": "code",
   "execution_count": 91,
   "metadata": {},
   "outputs": [
    {
     "data": {
      "text/html": [
       "<table>\n",
       "<thead><tr><th scope=col>vec 2</th><th scope=col>minions</th></tr></thead>\n",
       "<tbody>\n",
       "\t<tr><td>1     </td><td>Kevin </td></tr>\n",
       "\t<tr><td>2     </td><td>Stuart</td></tr>\n",
       "\t<tr><td>1     </td><td>Bob   </td></tr>\n",
       "</tbody>\n",
       "</table>\n"
      ],
      "text/latex": [
       "\\begin{tabular}{r|ll}\n",
       " vec 2 & minions\\\\\n",
       "\\hline\n",
       "\t 1      & Kevin \\\\\n",
       "\t 2      & Stuart\\\\\n",
       "\t 1      & Bob   \\\\\n",
       "\\end{tabular}\n"
      ],
      "text/markdown": [
       "\n",
       "| vec 2 | minions |\n",
       "|---|---|\n",
       "| 1      | Kevin  |\n",
       "| 2      | Stuart |\n",
       "| 1      | Bob    |\n",
       "\n"
      ],
      "text/plain": [
       "  vec 2 minions\n",
       "1 1     Kevin  \n",
       "2 2     Stuart \n",
       "3 1     Bob    "
      ]
     },
     "metadata": {},
     "output_type": "display_data"
    }
   ],
   "source": [
    "df"
   ]
  },
  {
   "cell_type": "markdown",
   "metadata": {},
   "source": [
    "<h3> Section II: Conditionals</h3>"
   ]
  },
  {
   "cell_type": "markdown",
   "metadata": {},
   "source": [
    "<h6>If Statement</h6>"
   ]
  },
  {
   "cell_type": "code",
   "execution_count": 92,
   "metadata": {},
   "outputs": [
    {
     "name": "stdout",
     "output_type": "stream",
     "text": [
      "[1] \"Hi Annice\"\n"
     ]
    }
   ],
   "source": [
    "annice <- TRUE\n",
    "if(annice){\n",
    "    print(\"Hi Annice\")\n",
    "}else{\n",
    "    print(\"Hello\")\n",
    "}"
   ]
  },
  {
   "cell_type": "code",
   "execution_count": 93,
   "metadata": {},
   "outputs": [
    {
     "name": "stdout",
     "output_type": "stream",
     "text": [
      "[1] \"Makes sense\"\n"
     ]
    }
   ],
   "source": [
    "val.1 <- 123\n",
    "val.2 <- 13.4\n",
    "val.3 <- \"hello\"\n",
    "if(val.1==123 && val.2<20){\n",
    "    print(\"Makes sense\")\n",
    "}else if(val.1<123 && val.2>=20){\n",
    "    print(\"There is an issue\")\n",
    "}else{\n",
    "    print(\"Something is wrong here\")\n",
    "}"
   ]
  },
  {
   "cell_type": "markdown",
   "metadata": {},
   "source": [
    "<h6>For Loops</h6>"
   ]
  },
  {
   "cell_type": "code",
   "execution_count": 94,
   "metadata": {},
   "outputs": [
    {
     "name": "stdout",
     "output_type": "stream",
     "text": [
      "[1] 1\n",
      "[1] 10\n",
      "[1] 22\n",
      "[1] 32\n"
     ]
    }
   ],
   "source": [
    "vect <- c(1, 10, 22, 32)\n",
    "for(num in vect){\n",
    "    print(num)\n",
    "}"
   ]
  },
  {
   "cell_type": "markdown",
   "metadata": {},
   "source": [
    "<h6>Nested For loops</h6>"
   ]
  },
  {
   "cell_type": "code",
   "execution_count": 114,
   "metadata": {},
   "outputs": [],
   "source": [
    "mat <- matrix(6, nrow=5, ncol=3)\n",
    "new_vect<-c()\n",
    "for (i in 1:nrow(mat)){\n",
    "    for(j in 1:ncol(mat)){\n",
    "        new_vect[(i-1)*ncol(mat)+j] <- mat[i, j]\n",
    "    }\n",
    "}"
   ]
  },
  {
   "cell_type": "code",
   "execution_count": 113,
   "metadata": {
    "scrolled": true
   },
   "outputs": [
    {
     "data": {
      "text/html": [
       "<ol class=list-inline>\n",
       "\t<li>6</li>\n",
       "\t<li>6</li>\n",
       "\t<li>6</li>\n",
       "\t<li>6</li>\n",
       "\t<li>6</li>\n",
       "\t<li>6</li>\n",
       "\t<li>6</li>\n",
       "\t<li>6</li>\n",
       "\t<li>6</li>\n",
       "\t<li>6</li>\n",
       "\t<li>6</li>\n",
       "\t<li>6</li>\n",
       "\t<li>6</li>\n",
       "\t<li>6</li>\n",
       "\t<li>6</li>\n",
       "</ol>\n"
      ],
      "text/latex": [
       "\\begin{enumerate*}\n",
       "\\item 6\n",
       "\\item 6\n",
       "\\item 6\n",
       "\\item 6\n",
       "\\item 6\n",
       "\\item 6\n",
       "\\item 6\n",
       "\\item 6\n",
       "\\item 6\n",
       "\\item 6\n",
       "\\item 6\n",
       "\\item 6\n",
       "\\item 6\n",
       "\\item 6\n",
       "\\item 6\n",
       "\\end{enumerate*}\n"
      ],
      "text/markdown": [
       "1. 6\n",
       "2. 6\n",
       "3. 6\n",
       "4. 6\n",
       "5. 6\n",
       "6. 6\n",
       "7. 6\n",
       "8. 6\n",
       "9. 6\n",
       "10. 6\n",
       "11. 6\n",
       "12. 6\n",
       "13. 6\n",
       "14. 6\n",
       "15. 6\n",
       "\n",
       "\n"
      ],
      "text/plain": [
       " [1] 6 6 6 6 6 6 6 6 6 6 6 6 6 6 6"
      ]
     },
     "metadata": {},
     "output_type": "display_data"
    }
   ],
   "source": [
    "new_vect"
   ]
  },
  {
   "cell_type": "markdown",
   "metadata": {},
   "source": [
    "<h6>Better way to do this</h6>"
   ]
  },
  {
   "cell_type": "code",
   "execution_count": 115,
   "metadata": {},
   "outputs": [
    {
     "data": {
      "text/html": [
       "<ol class=list-inline>\n",
       "\t<li>6</li>\n",
       "\t<li>6</li>\n",
       "\t<li>6</li>\n",
       "\t<li>6</li>\n",
       "\t<li>6</li>\n",
       "\t<li>6</li>\n",
       "\t<li>6</li>\n",
       "\t<li>6</li>\n",
       "\t<li>6</li>\n",
       "\t<li>6</li>\n",
       "\t<li>6</li>\n",
       "\t<li>6</li>\n",
       "\t<li>6</li>\n",
       "\t<li>6</li>\n",
       "\t<li>6</li>\n",
       "</ol>\n"
      ],
      "text/latex": [
       "\\begin{enumerate*}\n",
       "\\item 6\n",
       "\\item 6\n",
       "\\item 6\n",
       "\\item 6\n",
       "\\item 6\n",
       "\\item 6\n",
       "\\item 6\n",
       "\\item 6\n",
       "\\item 6\n",
       "\\item 6\n",
       "\\item 6\n",
       "\\item 6\n",
       "\\item 6\n",
       "\\item 6\n",
       "\\item 6\n",
       "\\end{enumerate*}\n"
      ],
      "text/markdown": [
       "1. 6\n",
       "2. 6\n",
       "3. 6\n",
       "4. 6\n",
       "5. 6\n",
       "6. 6\n",
       "7. 6\n",
       "8. 6\n",
       "9. 6\n",
       "10. 6\n",
       "11. 6\n",
       "12. 6\n",
       "13. 6\n",
       "14. 6\n",
       "15. 6\n",
       "\n",
       "\n"
      ],
      "text/plain": [
       " [1] 6 6 6 6 6 6 6 6 6 6 6 6 6 6 6"
      ]
     },
     "metadata": {},
     "output_type": "display_data"
    }
   ],
   "source": [
    "c(mat)"
   ]
  },
  {
   "cell_type": "markdown",
   "metadata": {},
   "source": [
    "<h6>Time Comparison</h6>"
   ]
  },
  {
   "cell_type": "code",
   "execution_count": 117,
   "metadata": {},
   "outputs": [
    {
     "data": {
      "text/plain": [
       "   user  system elapsed \n",
       "  0.659   0.015   0.674 "
      ]
     },
     "metadata": {},
     "output_type": "display_data"
    }
   ],
   "source": [
    "t0 <- proc.time()\n",
    "mat <- matrix(1, nrow=5000, ncol=100)\n",
    "new_vect<-c()\n",
    "for (i in 1:nrow(mat)){\n",
    "    for(j in 1:ncol(mat)){\n",
    "        new_vect[(i-1)*ncol(mat)+j] <- mat[i, j]\n",
    "    }\n",
    "}\n",
    "proc.time() - t0"
   ]
  },
  {
   "cell_type": "code",
   "execution_count": 119,
   "metadata": {
    "scrolled": true
   },
   "outputs": [
    {
     "data": {
      "text/plain": [
       "   user  system elapsed \n",
       "  0.004   0.000   0.004 "
      ]
     },
     "metadata": {},
     "output_type": "display_data"
    }
   ],
   "source": [
    "t0 <- proc.time()\n",
    "new_vect.2 <- c(mat)\n",
    "proc.time() - t0"
   ]
  },
  {
   "cell_type": "markdown",
   "metadata": {},
   "source": [
    "<img style = \"border-radius: 50%;\" src='https://www.keoweesailingclub.com/wp-content/uploads/2017/01/Leonardo-Dicaprio-Cheers.jpg' width=300>"
   ]
  },
  {
   "cell_type": "markdown",
   "metadata": {},
   "source": [
    "<h3>Section III: Functions</h3>"
   ]
  },
  {
   "cell_type": "markdown",
   "metadata": {},
   "source": [
    "<h6>Simple Function</h6>"
   ]
  },
  {
   "cell_type": "code",
   "execution_count": 122,
   "metadata": {},
   "outputs": [],
   "source": [
    "my_func <- function(a, b){\n",
    "    return(a+b)\n",
    "}"
   ]
  },
  {
   "cell_type": "code",
   "execution_count": 123,
   "metadata": {
    "scrolled": true
   },
   "outputs": [
    {
     "data": {
      "text/html": [
       "3"
      ],
      "text/latex": [
       "3"
      ],
      "text/markdown": [
       "3"
      ],
      "text/plain": [
       "[1] 3"
      ]
     },
     "metadata": {},
     "output_type": "display_data"
    }
   ],
   "source": [
    "my_func(1, 2)"
   ]
  },
  {
   "cell_type": "markdown",
   "metadata": {},
   "source": [
    "<h6>Function that returns a list of items</h6>"
   ]
  },
  {
   "cell_type": "code",
   "execution_count": 124,
   "metadata": {},
   "outputs": [],
   "source": [
    "my_func_2 <- function(a=4, b, c){\n",
    "    d<- c(a, b, c)\n",
    "    e<- b/3\n",
    "    return(c(d, e))\n",
    "}"
   ]
  },
  {
   "cell_type": "code",
   "execution_count": 126,
   "metadata": {},
   "outputs": [
    {
     "data": {
      "text/html": [
       "<ol class=list-inline>\n",
       "\t<li>4</li>\n",
       "\t<li>2</li>\n",
       "\t<li>5</li>\n",
       "\t<li>0.666666666666667</li>\n",
       "</ol>\n"
      ],
      "text/latex": [
       "\\begin{enumerate*}\n",
       "\\item 4\n",
       "\\item 2\n",
       "\\item 5\n",
       "\\item 0.666666666666667\n",
       "\\end{enumerate*}\n"
      ],
      "text/markdown": [
       "1. 4\n",
       "2. 2\n",
       "3. 5\n",
       "4. 0.666666666666667\n",
       "\n",
       "\n"
      ],
      "text/plain": [
       "[1] 4.0000000 2.0000000 5.0000000 0.6666667"
      ]
     },
     "metadata": {},
     "output_type": "display_data"
    }
   ],
   "source": [
    "my_func_2(b=2, c=5)"
   ]
  },
  {
   "cell_type": "code",
   "execution_count": 127,
   "metadata": {},
   "outputs": [
    {
     "data": {
      "text/html": [
       "2"
      ],
      "text/latex": [
       "2"
      ],
      "text/markdown": [
       "2"
      ],
      "text/plain": [
       "[1] 2"
      ]
     },
     "metadata": {},
     "output_type": "display_data"
    }
   ],
   "source": [
    "#Extract only variable e\n",
    "my_func_2(b=2, c=5)[2]"
   ]
  },
  {
   "cell_type": "markdown",
   "metadata": {},
   "source": [
    "<h3>Section IV: Packages</h3>"
   ]
  },
  {
   "cell_type": "markdown",
   "metadata": {},
   "source": [
    "<h6>Installing Packages</h6>"
   ]
  },
  {
   "cell_type": "code",
   "execution_count": 130,
   "metadata": {},
   "outputs": [
    {
     "name": "stderr",
     "output_type": "stream",
     "text": [
      "Updating HTML index of packages in '.Library'\n",
      "Making 'packages.html' ... done\n"
     ]
    }
   ],
   "source": [
    "install.packages('dplyr')"
   ]
  },
  {
   "cell_type": "markdown",
   "metadata": {},
   "source": [
    "<h6>Load the package</h6>"
   ]
  },
  {
   "cell_type": "code",
   "execution_count": 131,
   "metadata": {},
   "outputs": [
    {
     "name": "stderr",
     "output_type": "stream",
     "text": [
      "\n",
      "Attaching package: ‘dplyr’\n",
      "\n",
      "The following objects are masked from ‘package:stats’:\n",
      "\n",
      "    filter, lag\n",
      "\n",
      "The following objects are masked from ‘package:base’:\n",
      "\n",
      "    intersect, setdiff, setequal, union\n",
      "\n"
     ]
    }
   ],
   "source": [
    "library(dplyr)"
   ]
  },
  {
   "cell_type": "markdown",
   "metadata": {},
   "source": [
    "<h6>Let's look at a dataset</h6>"
   ]
  },
  {
   "cell_type": "code",
   "execution_count": 135,
   "metadata": {},
   "outputs": [
    {
     "data": {
      "text/html": [
       "<table>\n",
       "<thead><tr><th scope=col>name</th><th scope=col>height</th><th scope=col>mass</th><th scope=col>hair_color</th><th scope=col>skin_color</th><th scope=col>eye_color</th><th scope=col>birth_year</th><th scope=col>sex</th><th scope=col>gender</th><th scope=col>homeworld</th><th scope=col>species</th><th scope=col>films</th><th scope=col>vehicles</th><th scope=col>starships</th></tr></thead>\n",
       "<tbody>\n",
       "\t<tr><td>Luke Skywalker                                                                                                             </td><td>172                                                                                                                        </td><td> 77                                                                                                                        </td><td>blond                                                                                                                      </td><td>fair                                                                                                                       </td><td>blue                                                                                                                       </td><td> 19.0                                                                                                                      </td><td>male                                                                                                                       </td><td>masculine                                                                                                                  </td><td>Tatooine                                                                                                                   </td><td>Human                                                                                                                      </td><td>The Empire Strikes Back, Revenge of the Sith    , Return of the Jedi     , A New Hope             , The Force Awakens      </td><td>Snowspeeder          , Imperial Speeder Bike                                                                               </td><td>X-wing          , Imperial shuttle                                                                                         </td></tr>\n",
       "\t<tr><td>C-3PO                                                                                                                                               </td><td>167                                                                                                                                                 </td><td> 75                                                                                                                                                 </td><td>NA                                                                                                                                                  </td><td>gold                                                                                                                                                </td><td>yellow                                                                                                                                              </td><td>112.0                                                                                                                                               </td><td>none                                                                                                                                                </td><td>masculine                                                                                                                                           </td><td>Tatooine                                                                                                                                            </td><td>Droid                                                                                                                                               </td><td>The Empire Strikes Back, Attack of the Clones   , The Phantom Menace     , Revenge of the Sith    , Return of the Jedi     , A New Hope             </td><td>                                                                                                                                                    </td><td>                                                                                                                                                    </td></tr>\n",
       "\t<tr><td>R2-D2                                                                                                                                                                        </td><td> 96                                                                                                                                                                          </td><td> 32                                                                                                                                                                          </td><td>NA                                                                                                                                                                           </td><td>white, blue                                                                                                                                                                  </td><td>red                                                                                                                                                                          </td><td> 33.0                                                                                                                                                                        </td><td>none                                                                                                                                                                         </td><td>masculine                                                                                                                                                                    </td><td>Naboo                                                                                                                                                                        </td><td>Droid                                                                                                                                                                        </td><td>The Empire Strikes Back, Attack of the Clones   , The Phantom Menace     , Revenge of the Sith    , Return of the Jedi     , A New Hope             , The Force Awakens      </td><td>                                                                                                                                                                             </td><td>                                                                                                                                                                             </td></tr>\n",
       "\t<tr><td>Darth Vader                                                                                       </td><td>202                                                                                               </td><td>136                                                                                               </td><td>none                                                                                              </td><td>white                                                                                             </td><td>yellow                                                                                            </td><td> 41.9                                                                                             </td><td>male                                                                                              </td><td>masculine                                                                                         </td><td>Tatooine                                                                                          </td><td>Human                                                                                             </td><td>The Empire Strikes Back, Revenge of the Sith    , Return of the Jedi     , A New Hope             </td><td>                                                                                                  </td><td>TIE Advanced x1                                                                                   </td></tr>\n",
       "\t<tr><td>Leia Organa                                                                                                                </td><td>150                                                                                                                        </td><td> 49                                                                                                                        </td><td>brown                                                                                                                      </td><td>light                                                                                                                      </td><td>brown                                                                                                                      </td><td> 19.0                                                                                                                      </td><td>female                                                                                                                     </td><td>feminine                                                                                                                   </td><td>Alderaan                                                                                                                   </td><td>Human                                                                                                                      </td><td>The Empire Strikes Back, Revenge of the Sith    , Return of the Jedi     , A New Hope             , The Force Awakens      </td><td>Imperial Speeder Bike                                                                                                      </td><td>                                                                                                                           </td></tr>\n",
       "\t<tr><td>Owen Lars                                                       </td><td>178                                                             </td><td>120                                                             </td><td>brown, grey                                                     </td><td>light                                                           </td><td>blue                                                            </td><td> 52.0                                                           </td><td>male                                                            </td><td>masculine                                                       </td><td>Tatooine                                                        </td><td>Human                                                           </td><td>Attack of the Clones, Revenge of the Sith , A New Hope          </td><td>                                                                </td><td>                                                                </td></tr>\n",
       "</tbody>\n",
       "</table>\n"
      ],
      "text/latex": [
       "\\begin{tabular}{r|llllllllllllll}\n",
       " name & height & mass & hair\\_color & skin\\_color & eye\\_color & birth\\_year & sex & gender & homeworld & species & films & vehicles & starships\\\\\n",
       "\\hline\n",
       "\t Luke Skywalker                                                                                                              & 172                                                                                                                         &  77                                                                                                                         & blond                                                                                                                       & fair                                                                                                                        & blue                                                                                                                        &  19.0                                                                                                                       & male                                                                                                                        & masculine                                                                                                                   & Tatooine                                                                                                                    & Human                                                                                                                       & The Empire Strikes Back, Revenge of the Sith    , Return of the Jedi     , A New Hope             , The Force Awakens       & Snowspeeder          , Imperial Speeder Bike                                                                                & X-wing          , Imperial shuttle                                                                                         \\\\\n",
       "\t C-3PO                                                                                                                                                & 167                                                                                                                                                  &  75                                                                                                                                                  & NA                                                                                                                                                   & gold                                                                                                                                                 & yellow                                                                                                                                               & 112.0                                                                                                                                                & none                                                                                                                                                 & masculine                                                                                                                                            & Tatooine                                                                                                                                             & Droid                                                                                                                                                & The Empire Strikes Back, Attack of the Clones   , The Phantom Menace     , Revenge of the Sith    , Return of the Jedi     , A New Hope              &                                                                                                                                                      &                                                                                                                                                     \\\\\n",
       "\t R2-D2                                                                                                                                                                         &  96                                                                                                                                                                           &  32                                                                                                                                                                           & NA                                                                                                                                                                            & white, blue                                                                                                                                                                   & red                                                                                                                                                                           &  33.0                                                                                                                                                                         & none                                                                                                                                                                          & masculine                                                                                                                                                                     & Naboo                                                                                                                                                                         & Droid                                                                                                                                                                         & The Empire Strikes Back, Attack of the Clones   , The Phantom Menace     , Revenge of the Sith    , Return of the Jedi     , A New Hope             , The Force Awakens       &                                                                                                                                                                               &                                                                                                                                                                              \\\\\n",
       "\t Darth Vader                                                                                        & 202                                                                                                & 136                                                                                                & none                                                                                               & white                                                                                              & yellow                                                                                             &  41.9                                                                                              & male                                                                                               & masculine                                                                                          & Tatooine                                                                                           & Human                                                                                              & The Empire Strikes Back, Revenge of the Sith    , Return of the Jedi     , A New Hope              &                                                                                                    & TIE Advanced x1                                                                                   \\\\\n",
       "\t Leia Organa                                                                                                                 & 150                                                                                                                         &  49                                                                                                                         & brown                                                                                                                       & light                                                                                                                       & brown                                                                                                                       &  19.0                                                                                                                       & female                                                                                                                      & feminine                                                                                                                    & Alderaan                                                                                                                    & Human                                                                                                                       & The Empire Strikes Back, Revenge of the Sith    , Return of the Jedi     , A New Hope             , The Force Awakens       & Imperial Speeder Bike                                                                                                       &                                                                                                                            \\\\\n",
       "\t Owen Lars                                                        & 178                                                              & 120                                                              & brown, grey                                                      & light                                                            & blue                                                             &  52.0                                                            & male                                                             & masculine                                                        & Tatooine                                                         & Human                                                            & Attack of the Clones, Revenge of the Sith , A New Hope           &                                                                  &                                                                 \\\\\n",
       "\\end{tabular}\n"
      ],
      "text/markdown": [
       "\n",
       "| name | height | mass | hair_color | skin_color | eye_color | birth_year | sex | gender | homeworld | species | films | vehicles | starships |\n",
       "|---|---|---|---|---|---|---|---|---|---|---|---|---|---|\n",
       "| Luke Skywalker                                                                                                              | 172                                                                                                                         |  77                                                                                                                         | blond                                                                                                                       | fair                                                                                                                        | blue                                                                                                                        |  19.0                                                                                                                       | male                                                                                                                        | masculine                                                                                                                   | Tatooine                                                                                                                    | Human                                                                                                                       | The Empire Strikes Back, Revenge of the Sith    , Return of the Jedi     , A New Hope             , The Force Awakens       | Snowspeeder          , Imperial Speeder Bike                                                                                | X-wing          , Imperial shuttle                                                                                          |\n",
       "| C-3PO                                                                                                                                                | 167                                                                                                                                                  |  75                                                                                                                                                  | NA                                                                                                                                                   | gold                                                                                                                                                 | yellow                                                                                                                                               | 112.0                                                                                                                                                | none                                                                                                                                                 | masculine                                                                                                                                            | Tatooine                                                                                                                                             | Droid                                                                                                                                                | The Empire Strikes Back, Attack of the Clones   , The Phantom Menace     , Revenge of the Sith    , Return of the Jedi     , A New Hope              |                                                                                                                                                      |                                                                                                                                                      |\n",
       "| R2-D2                                                                                                                                                                         |  96                                                                                                                                                                           |  32                                                                                                                                                                           | NA                                                                                                                                                                            | white, blue                                                                                                                                                                   | red                                                                                                                                                                           |  33.0                                                                                                                                                                         | none                                                                                                                                                                          | masculine                                                                                                                                                                     | Naboo                                                                                                                                                                         | Droid                                                                                                                                                                         | The Empire Strikes Back, Attack of the Clones   , The Phantom Menace     , Revenge of the Sith    , Return of the Jedi     , A New Hope             , The Force Awakens       |                                                                                                                                                                               |                                                                                                                                                                               |\n",
       "| Darth Vader                                                                                        | 202                                                                                                | 136                                                                                                | none                                                                                               | white                                                                                              | yellow                                                                                             |  41.9                                                                                              | male                                                                                               | masculine                                                                                          | Tatooine                                                                                           | Human                                                                                              | The Empire Strikes Back, Revenge of the Sith    , Return of the Jedi     , A New Hope              |                                                                                                    | TIE Advanced x1                                                                                    |\n",
       "| Leia Organa                                                                                                                 | 150                                                                                                                         |  49                                                                                                                         | brown                                                                                                                       | light                                                                                                                       | brown                                                                                                                       |  19.0                                                                                                                       | female                                                                                                                      | feminine                                                                                                                    | Alderaan                                                                                                                    | Human                                                                                                                       | The Empire Strikes Back, Revenge of the Sith    , Return of the Jedi     , A New Hope             , The Force Awakens       | Imperial Speeder Bike                                                                                                       |                                                                                                                             |\n",
       "| Owen Lars                                                        | 178                                                              | 120                                                              | brown, grey                                                      | light                                                            | blue                                                             |  52.0                                                            | male                                                             | masculine                                                        | Tatooine                                                         | Human                                                            | Attack of the Clones, Revenge of the Sith , A New Hope           |                                                                  |                                                                  |\n",
       "\n"
      ],
      "text/plain": [
       "  name           height mass hair_color  skin_color  eye_color birth_year\n",
       "1 Luke Skywalker 172     77  blond       fair        blue       19.0     \n",
       "2 C-3PO          167     75  NA          gold        yellow    112.0     \n",
       "3 R2-D2           96     32  NA          white, blue red        33.0     \n",
       "4 Darth Vader    202    136  none        white       yellow     41.9     \n",
       "5 Leia Organa    150     49  brown       light       brown      19.0     \n",
       "6 Owen Lars      178    120  brown, grey light       blue       52.0     \n",
       "  sex    gender    homeworld species\n",
       "1 male   masculine Tatooine  Human  \n",
       "2 none   masculine Tatooine  Droid  \n",
       "3 none   masculine Naboo     Droid  \n",
       "4 male   masculine Tatooine  Human  \n",
       "5 female feminine  Alderaan  Human  \n",
       "6 male   masculine Tatooine  Human  \n",
       "  films                                                                                                                                                                        \n",
       "1 The Empire Strikes Back, Revenge of the Sith    , Return of the Jedi     , A New Hope             , The Force Awakens                                                        \n",
       "2 The Empire Strikes Back, Attack of the Clones   , The Phantom Menace     , Revenge of the Sith    , Return of the Jedi     , A New Hope                                      \n",
       "3 The Empire Strikes Back, Attack of the Clones   , The Phantom Menace     , Revenge of the Sith    , Return of the Jedi     , A New Hope             , The Force Awakens      \n",
       "4 The Empire Strikes Back, Revenge of the Sith    , Return of the Jedi     , A New Hope                                                                                        \n",
       "5 The Empire Strikes Back, Revenge of the Sith    , Return of the Jedi     , A New Hope             , The Force Awakens                                                        \n",
       "6 Attack of the Clones, Revenge of the Sith , A New Hope                                                                                                                       \n",
       "  vehicles                                    \n",
       "1 Snowspeeder          , Imperial Speeder Bike\n",
       "2                                             \n",
       "3                                             \n",
       "4                                             \n",
       "5 Imperial Speeder Bike                       \n",
       "6                                             \n",
       "  starships                         \n",
       "1 X-wing          , Imperial shuttle\n",
       "2                                   \n",
       "3                                   \n",
       "4 TIE Advanced x1                   \n",
       "5                                   \n",
       "6                                   "
      ]
     },
     "metadata": {},
     "output_type": "display_data"
    }
   ],
   "source": [
    "head(dplyr::starwars)"
   ]
  },
  {
   "cell_type": "markdown",
   "metadata": {},
   "source": [
    "<h6>The pipe element</h6>"
   ]
  },
  {
   "cell_type": "code",
   "execution_count": 155,
   "metadata": {},
   "outputs": [
    {
     "data": {
      "text/html": [
       "<table>\n",
       "<thead><tr><th scope=col>name</th><th scope=col>height</th><th scope=col>mass</th><th scope=col>hair_color</th><th scope=col>skin_color</th><th scope=col>eye_color</th><th scope=col>birth_year</th><th scope=col>sex</th><th scope=col>gender</th><th scope=col>homeworld</th><th scope=col>species</th><th scope=col>films</th><th scope=col>vehicles</th><th scope=col>starships</th></tr></thead>\n",
       "<tbody>\n",
       "\t<tr><td>Luke Skywalker                                                                                                             </td><td>172                                                                                                                        </td><td> 77                                                                                                                        </td><td>blond                                                                                                                      </td><td>fair                                                                                                                       </td><td>blue                                                                                                                       </td><td> 19.0                                                                                                                      </td><td>male                                                                                                                       </td><td>masculine                                                                                                                  </td><td>Tatooine                                                                                                                   </td><td>Human                                                                                                                      </td><td>The Empire Strikes Back, Revenge of the Sith    , Return of the Jedi     , A New Hope             , The Force Awakens      </td><td>Snowspeeder          , Imperial Speeder Bike                                                                               </td><td>X-wing          , Imperial shuttle                                                                                         </td></tr>\n",
       "\t<tr><td>C-3PO                                                                                                                                               </td><td>167                                                                                                                                                 </td><td> 75                                                                                                                                                 </td><td>NA                                                                                                                                                  </td><td>gold                                                                                                                                                </td><td>yellow                                                                                                                                              </td><td>112.0                                                                                                                                               </td><td>none                                                                                                                                                </td><td>masculine                                                                                                                                           </td><td>Tatooine                                                                                                                                            </td><td>Droid                                                                                                                                               </td><td>The Empire Strikes Back, Attack of the Clones   , The Phantom Menace     , Revenge of the Sith    , Return of the Jedi     , A New Hope             </td><td>                                                                                                                                                    </td><td>                                                                                                                                                    </td></tr>\n",
       "\t<tr><td>R2-D2                                                                                                                                                                        </td><td> 96                                                                                                                                                                          </td><td> 32                                                                                                                                                                          </td><td>NA                                                                                                                                                                           </td><td>white, blue                                                                                                                                                                  </td><td>red                                                                                                                                                                          </td><td> 33.0                                                                                                                                                                        </td><td>none                                                                                                                                                                         </td><td>masculine                                                                                                                                                                    </td><td>Naboo                                                                                                                                                                        </td><td>Droid                                                                                                                                                                        </td><td>The Empire Strikes Back, Attack of the Clones   , The Phantom Menace     , Revenge of the Sith    , Return of the Jedi     , A New Hope             , The Force Awakens      </td><td>                                                                                                                                                                             </td><td>                                                                                                                                                                             </td></tr>\n",
       "\t<tr><td>Darth Vader                                                                                       </td><td>202                                                                                               </td><td>136                                                                                               </td><td>none                                                                                              </td><td>white                                                                                             </td><td>yellow                                                                                            </td><td> 41.9                                                                                             </td><td>male                                                                                              </td><td>masculine                                                                                         </td><td>Tatooine                                                                                          </td><td>Human                                                                                             </td><td>The Empire Strikes Back, Revenge of the Sith    , Return of the Jedi     , A New Hope             </td><td>                                                                                                  </td><td>TIE Advanced x1                                                                                   </td></tr>\n",
       "\t<tr><td>Leia Organa                                                                                                                </td><td>150                                                                                                                        </td><td> 49                                                                                                                        </td><td>brown                                                                                                                      </td><td>light                                                                                                                      </td><td>brown                                                                                                                      </td><td> 19.0                                                                                                                      </td><td>female                                                                                                                     </td><td>feminine                                                                                                                   </td><td>Alderaan                                                                                                                   </td><td>Human                                                                                                                      </td><td>The Empire Strikes Back, Revenge of the Sith    , Return of the Jedi     , A New Hope             , The Force Awakens      </td><td>Imperial Speeder Bike                                                                                                      </td><td>                                                                                                                           </td></tr>\n",
       "\t<tr><td>Owen Lars                                                       </td><td>178                                                             </td><td>120                                                             </td><td>brown, grey                                                     </td><td>light                                                           </td><td>blue                                                            </td><td> 52.0                                                           </td><td>male                                                            </td><td>masculine                                                       </td><td>Tatooine                                                        </td><td>Human                                                           </td><td>Attack of the Clones, Revenge of the Sith , A New Hope          </td><td>                                                                </td><td>                                                                </td></tr>\n",
       "</tbody>\n",
       "</table>\n"
      ],
      "text/latex": [
       "\\begin{tabular}{r|llllllllllllll}\n",
       " name & height & mass & hair\\_color & skin\\_color & eye\\_color & birth\\_year & sex & gender & homeworld & species & films & vehicles & starships\\\\\n",
       "\\hline\n",
       "\t Luke Skywalker                                                                                                              & 172                                                                                                                         &  77                                                                                                                         & blond                                                                                                                       & fair                                                                                                                        & blue                                                                                                                        &  19.0                                                                                                                       & male                                                                                                                        & masculine                                                                                                                   & Tatooine                                                                                                                    & Human                                                                                                                       & The Empire Strikes Back, Revenge of the Sith    , Return of the Jedi     , A New Hope             , The Force Awakens       & Snowspeeder          , Imperial Speeder Bike                                                                                & X-wing          , Imperial shuttle                                                                                         \\\\\n",
       "\t C-3PO                                                                                                                                                & 167                                                                                                                                                  &  75                                                                                                                                                  & NA                                                                                                                                                   & gold                                                                                                                                                 & yellow                                                                                                                                               & 112.0                                                                                                                                                & none                                                                                                                                                 & masculine                                                                                                                                            & Tatooine                                                                                                                                             & Droid                                                                                                                                                & The Empire Strikes Back, Attack of the Clones   , The Phantom Menace     , Revenge of the Sith    , Return of the Jedi     , A New Hope              &                                                                                                                                                      &                                                                                                                                                     \\\\\n",
       "\t R2-D2                                                                                                                                                                         &  96                                                                                                                                                                           &  32                                                                                                                                                                           & NA                                                                                                                                                                            & white, blue                                                                                                                                                                   & red                                                                                                                                                                           &  33.0                                                                                                                                                                         & none                                                                                                                                                                          & masculine                                                                                                                                                                     & Naboo                                                                                                                                                                         & Droid                                                                                                                                                                         & The Empire Strikes Back, Attack of the Clones   , The Phantom Menace     , Revenge of the Sith    , Return of the Jedi     , A New Hope             , The Force Awakens       &                                                                                                                                                                               &                                                                                                                                                                              \\\\\n",
       "\t Darth Vader                                                                                        & 202                                                                                                & 136                                                                                                & none                                                                                               & white                                                                                              & yellow                                                                                             &  41.9                                                                                              & male                                                                                               & masculine                                                                                          & Tatooine                                                                                           & Human                                                                                              & The Empire Strikes Back, Revenge of the Sith    , Return of the Jedi     , A New Hope              &                                                                                                    & TIE Advanced x1                                                                                   \\\\\n",
       "\t Leia Organa                                                                                                                 & 150                                                                                                                         &  49                                                                                                                         & brown                                                                                                                       & light                                                                                                                       & brown                                                                                                                       &  19.0                                                                                                                       & female                                                                                                                      & feminine                                                                                                                    & Alderaan                                                                                                                    & Human                                                                                                                       & The Empire Strikes Back, Revenge of the Sith    , Return of the Jedi     , A New Hope             , The Force Awakens       & Imperial Speeder Bike                                                                                                       &                                                                                                                            \\\\\n",
       "\t Owen Lars                                                        & 178                                                              & 120                                                              & brown, grey                                                      & light                                                            & blue                                                             &  52.0                                                            & male                                                             & masculine                                                        & Tatooine                                                         & Human                                                            & Attack of the Clones, Revenge of the Sith , A New Hope           &                                                                  &                                                                 \\\\\n",
       "\\end{tabular}\n"
      ],
      "text/markdown": [
       "\n",
       "| name | height | mass | hair_color | skin_color | eye_color | birth_year | sex | gender | homeworld | species | films | vehicles | starships |\n",
       "|---|---|---|---|---|---|---|---|---|---|---|---|---|---|\n",
       "| Luke Skywalker                                                                                                              | 172                                                                                                                         |  77                                                                                                                         | blond                                                                                                                       | fair                                                                                                                        | blue                                                                                                                        |  19.0                                                                                                                       | male                                                                                                                        | masculine                                                                                                                   | Tatooine                                                                                                                    | Human                                                                                                                       | The Empire Strikes Back, Revenge of the Sith    , Return of the Jedi     , A New Hope             , The Force Awakens       | Snowspeeder          , Imperial Speeder Bike                                                                                | X-wing          , Imperial shuttle                                                                                          |\n",
       "| C-3PO                                                                                                                                                | 167                                                                                                                                                  |  75                                                                                                                                                  | NA                                                                                                                                                   | gold                                                                                                                                                 | yellow                                                                                                                                               | 112.0                                                                                                                                                | none                                                                                                                                                 | masculine                                                                                                                                            | Tatooine                                                                                                                                             | Droid                                                                                                                                                | The Empire Strikes Back, Attack of the Clones   , The Phantom Menace     , Revenge of the Sith    , Return of the Jedi     , A New Hope              |                                                                                                                                                      |                                                                                                                                                      |\n",
       "| R2-D2                                                                                                                                                                         |  96                                                                                                                                                                           |  32                                                                                                                                                                           | NA                                                                                                                                                                            | white, blue                                                                                                                                                                   | red                                                                                                                                                                           |  33.0                                                                                                                                                                         | none                                                                                                                                                                          | masculine                                                                                                                                                                     | Naboo                                                                                                                                                                         | Droid                                                                                                                                                                         | The Empire Strikes Back, Attack of the Clones   , The Phantom Menace     , Revenge of the Sith    , Return of the Jedi     , A New Hope             , The Force Awakens       |                                                                                                                                                                               |                                                                                                                                                                               |\n",
       "| Darth Vader                                                                                        | 202                                                                                                | 136                                                                                                | none                                                                                               | white                                                                                              | yellow                                                                                             |  41.9                                                                                              | male                                                                                               | masculine                                                                                          | Tatooine                                                                                           | Human                                                                                              | The Empire Strikes Back, Revenge of the Sith    , Return of the Jedi     , A New Hope              |                                                                                                    | TIE Advanced x1                                                                                    |\n",
       "| Leia Organa                                                                                                                 | 150                                                                                                                         |  49                                                                                                                         | brown                                                                                                                       | light                                                                                                                       | brown                                                                                                                       |  19.0                                                                                                                       | female                                                                                                                      | feminine                                                                                                                    | Alderaan                                                                                                                    | Human                                                                                                                       | The Empire Strikes Back, Revenge of the Sith    , Return of the Jedi     , A New Hope             , The Force Awakens       | Imperial Speeder Bike                                                                                                       |                                                                                                                             |\n",
       "| Owen Lars                                                        | 178                                                              | 120                                                              | brown, grey                                                      | light                                                            | blue                                                             |  52.0                                                            | male                                                             | masculine                                                        | Tatooine                                                         | Human                                                            | Attack of the Clones, Revenge of the Sith , A New Hope           |                                                                  |                                                                  |\n",
       "\n"
      ],
      "text/plain": [
       "  name           height mass hair_color  skin_color  eye_color birth_year\n",
       "1 Luke Skywalker 172     77  blond       fair        blue       19.0     \n",
       "2 C-3PO          167     75  NA          gold        yellow    112.0     \n",
       "3 R2-D2           96     32  NA          white, blue red        33.0     \n",
       "4 Darth Vader    202    136  none        white       yellow     41.9     \n",
       "5 Leia Organa    150     49  brown       light       brown      19.0     \n",
       "6 Owen Lars      178    120  brown, grey light       blue       52.0     \n",
       "  sex    gender    homeworld species\n",
       "1 male   masculine Tatooine  Human  \n",
       "2 none   masculine Tatooine  Droid  \n",
       "3 none   masculine Naboo     Droid  \n",
       "4 male   masculine Tatooine  Human  \n",
       "5 female feminine  Alderaan  Human  \n",
       "6 male   masculine Tatooine  Human  \n",
       "  films                                                                                                                                                                        \n",
       "1 The Empire Strikes Back, Revenge of the Sith    , Return of the Jedi     , A New Hope             , The Force Awakens                                                        \n",
       "2 The Empire Strikes Back, Attack of the Clones   , The Phantom Menace     , Revenge of the Sith    , Return of the Jedi     , A New Hope                                      \n",
       "3 The Empire Strikes Back, Attack of the Clones   , The Phantom Menace     , Revenge of the Sith    , Return of the Jedi     , A New Hope             , The Force Awakens      \n",
       "4 The Empire Strikes Back, Revenge of the Sith    , Return of the Jedi     , A New Hope                                                                                        \n",
       "5 The Empire Strikes Back, Revenge of the Sith    , Return of the Jedi     , A New Hope             , The Force Awakens                                                        \n",
       "6 Attack of the Clones, Revenge of the Sith , A New Hope                                                                                                                       \n",
       "  vehicles                                    \n",
       "1 Snowspeeder          , Imperial Speeder Bike\n",
       "2                                             \n",
       "3                                             \n",
       "4                                             \n",
       "5 Imperial Speeder Bike                       \n",
       "6                                             \n",
       "  starships                         \n",
       "1 X-wing          , Imperial shuttle\n",
       "2                                   \n",
       "3                                   \n",
       "4 TIE Advanced x1                   \n",
       "5                                   \n",
       "6                                   "
      ]
     },
     "metadata": {},
     "output_type": "display_data"
    }
   ],
   "source": [
    "head(starwars %>% filter(eye_color=='blue' && hair_color==\"blond\")) #filter for those with blond hair and blue eyes"
   ]
  },
  {
   "cell_type": "code",
   "execution_count": 141,
   "metadata": {},
   "outputs": [
    {
     "data": {
      "text/html": [
       "<table>\n",
       "<thead><tr><th scope=col>n</th></tr></thead>\n",
       "<tbody>\n",
       "\t<tr><td>87</td></tr>\n",
       "</tbody>\n",
       "</table>\n"
      ],
      "text/latex": [
       "\\begin{tabular}{r|l}\n",
       " n\\\\\n",
       "\\hline\n",
       "\t 87\\\\\n",
       "\\end{tabular}\n"
      ],
      "text/markdown": [
       "\n",
       "| n |\n",
       "|---|\n",
       "| 87 |\n",
       "\n"
      ],
      "text/plain": [
       "  n \n",
       "1 87"
      ]
     },
     "metadata": {},
     "output_type": "display_data"
    }
   ],
   "source": [
    "count(starwars %>% filter(eye_color=='blue' && hair_color==\"blond\")) #count those with blonde hair and blue eyes"
   ]
  },
  {
   "cell_type": "markdown",
   "metadata": {},
   "source": [
    "**Note: you can also do the same thing without dplyr**"
   ]
  },
  {
   "cell_type": "code",
   "execution_count": 162,
   "metadata": {},
   "outputs": [
    {
     "data": {
      "text/html": [
       "<table>\n",
       "<thead><tr><th scope=col>name</th><th scope=col>height</th><th scope=col>mass</th><th scope=col>hair_color</th><th scope=col>skin_color</th><th scope=col>eye_color</th><th scope=col>birth_year</th><th scope=col>sex</th><th scope=col>gender</th><th scope=col>homeworld</th><th scope=col>species</th><th scope=col>films</th><th scope=col>vehicles</th><th scope=col>starships</th></tr></thead>\n",
       "<tbody>\n",
       "\t<tr><td>Luke Skywalker                                                                                                             </td><td>172                                                                                                                        </td><td> 77                                                                                                                        </td><td>blond                                                                                                                      </td><td>fair                                                                                                                       </td><td>blue                                                                                                                       </td><td> 19.0                                                                                                                      </td><td>male                                                                                                                       </td><td>masculine                                                                                                                  </td><td>Tatooine                                                                                                                   </td><td>Human                                                                                                                      </td><td>The Empire Strikes Back, Revenge of the Sith    , Return of the Jedi     , A New Hope             , The Force Awakens      </td><td>Snowspeeder          , Imperial Speeder Bike                                                                               </td><td>X-wing          , Imperial shuttle                                                                                         </td></tr>\n",
       "\t<tr><td>C-3PO                                                                                                                                               </td><td>167                                                                                                                                                 </td><td> 75                                                                                                                                                 </td><td>NA                                                                                                                                                  </td><td>gold                                                                                                                                                </td><td>yellow                                                                                                                                              </td><td>112.0                                                                                                                                               </td><td>none                                                                                                                                                </td><td>masculine                                                                                                                                           </td><td>Tatooine                                                                                                                                            </td><td>Droid                                                                                                                                               </td><td>The Empire Strikes Back, Attack of the Clones   , The Phantom Menace     , Revenge of the Sith    , Return of the Jedi     , A New Hope             </td><td>                                                                                                                                                    </td><td>                                                                                                                                                    </td></tr>\n",
       "\t<tr><td>R2-D2                                                                                                                                                                        </td><td> 96                                                                                                                                                                          </td><td> 32                                                                                                                                                                          </td><td>NA                                                                                                                                                                           </td><td>white, blue                                                                                                                                                                  </td><td>red                                                                                                                                                                          </td><td> 33.0                                                                                                                                                                        </td><td>none                                                                                                                                                                         </td><td>masculine                                                                                                                                                                    </td><td>Naboo                                                                                                                                                                        </td><td>Droid                                                                                                                                                                        </td><td>The Empire Strikes Back, Attack of the Clones   , The Phantom Menace     , Revenge of the Sith    , Return of the Jedi     , A New Hope             , The Force Awakens      </td><td>                                                                                                                                                                             </td><td>                                                                                                                                                                             </td></tr>\n",
       "\t<tr><td>Darth Vader                                                                                       </td><td>202                                                                                               </td><td>136                                                                                               </td><td>none                                                                                              </td><td>white                                                                                             </td><td>yellow                                                                                            </td><td> 41.9                                                                                             </td><td>male                                                                                              </td><td>masculine                                                                                         </td><td>Tatooine                                                                                          </td><td>Human                                                                                             </td><td>The Empire Strikes Back, Revenge of the Sith    , Return of the Jedi     , A New Hope             </td><td>                                                                                                  </td><td>TIE Advanced x1                                                                                   </td></tr>\n",
       "\t<tr><td>Leia Organa                                                                                                                </td><td>150                                                                                                                        </td><td> 49                                                                                                                        </td><td>brown                                                                                                                      </td><td>light                                                                                                                      </td><td>brown                                                                                                                      </td><td> 19.0                                                                                                                      </td><td>female                                                                                                                     </td><td>feminine                                                                                                                   </td><td>Alderaan                                                                                                                   </td><td>Human                                                                                                                      </td><td>The Empire Strikes Back, Revenge of the Sith    , Return of the Jedi     , A New Hope             , The Force Awakens      </td><td>Imperial Speeder Bike                                                                                                      </td><td>                                                                                                                           </td></tr>\n",
       "\t<tr><td>Owen Lars                                                       </td><td>178                                                             </td><td>120                                                             </td><td>brown, grey                                                     </td><td>light                                                           </td><td>blue                                                            </td><td> 52.0                                                           </td><td>male                                                            </td><td>masculine                                                       </td><td>Tatooine                                                        </td><td>Human                                                           </td><td>Attack of the Clones, Revenge of the Sith , A New Hope          </td><td>                                                                </td><td>                                                                </td></tr>\n",
       "</tbody>\n",
       "</table>\n"
      ],
      "text/latex": [
       "\\begin{tabular}{r|llllllllllllll}\n",
       " name & height & mass & hair\\_color & skin\\_color & eye\\_color & birth\\_year & sex & gender & homeworld & species & films & vehicles & starships\\\\\n",
       "\\hline\n",
       "\t Luke Skywalker                                                                                                              & 172                                                                                                                         &  77                                                                                                                         & blond                                                                                                                       & fair                                                                                                                        & blue                                                                                                                        &  19.0                                                                                                                       & male                                                                                                                        & masculine                                                                                                                   & Tatooine                                                                                                                    & Human                                                                                                                       & The Empire Strikes Back, Revenge of the Sith    , Return of the Jedi     , A New Hope             , The Force Awakens       & Snowspeeder          , Imperial Speeder Bike                                                                                & X-wing          , Imperial shuttle                                                                                         \\\\\n",
       "\t C-3PO                                                                                                                                                & 167                                                                                                                                                  &  75                                                                                                                                                  & NA                                                                                                                                                   & gold                                                                                                                                                 & yellow                                                                                                                                               & 112.0                                                                                                                                                & none                                                                                                                                                 & masculine                                                                                                                                            & Tatooine                                                                                                                                             & Droid                                                                                                                                                & The Empire Strikes Back, Attack of the Clones   , The Phantom Menace     , Revenge of the Sith    , Return of the Jedi     , A New Hope              &                                                                                                                                                      &                                                                                                                                                     \\\\\n",
       "\t R2-D2                                                                                                                                                                         &  96                                                                                                                                                                           &  32                                                                                                                                                                           & NA                                                                                                                                                                            & white, blue                                                                                                                                                                   & red                                                                                                                                                                           &  33.0                                                                                                                                                                         & none                                                                                                                                                                          & masculine                                                                                                                                                                     & Naboo                                                                                                                                                                         & Droid                                                                                                                                                                         & The Empire Strikes Back, Attack of the Clones   , The Phantom Menace     , Revenge of the Sith    , Return of the Jedi     , A New Hope             , The Force Awakens       &                                                                                                                                                                               &                                                                                                                                                                              \\\\\n",
       "\t Darth Vader                                                                                        & 202                                                                                                & 136                                                                                                & none                                                                                               & white                                                                                              & yellow                                                                                             &  41.9                                                                                              & male                                                                                               & masculine                                                                                          & Tatooine                                                                                           & Human                                                                                              & The Empire Strikes Back, Revenge of the Sith    , Return of the Jedi     , A New Hope              &                                                                                                    & TIE Advanced x1                                                                                   \\\\\n",
       "\t Leia Organa                                                                                                                 & 150                                                                                                                         &  49                                                                                                                         & brown                                                                                                                       & light                                                                                                                       & brown                                                                                                                       &  19.0                                                                                                                       & female                                                                                                                      & feminine                                                                                                                    & Alderaan                                                                                                                    & Human                                                                                                                       & The Empire Strikes Back, Revenge of the Sith    , Return of the Jedi     , A New Hope             , The Force Awakens       & Imperial Speeder Bike                                                                                                       &                                                                                                                            \\\\\n",
       "\t Owen Lars                                                        & 178                                                              & 120                                                              & brown, grey                                                      & light                                                            & blue                                                             &  52.0                                                            & male                                                             & masculine                                                        & Tatooine                                                         & Human                                                            & Attack of the Clones, Revenge of the Sith , A New Hope           &                                                                  &                                                                 \\\\\n",
       "\\end{tabular}\n"
      ],
      "text/markdown": [
       "\n",
       "| name | height | mass | hair_color | skin_color | eye_color | birth_year | sex | gender | homeworld | species | films | vehicles | starships |\n",
       "|---|---|---|---|---|---|---|---|---|---|---|---|---|---|\n",
       "| Luke Skywalker                                                                                                              | 172                                                                                                                         |  77                                                                                                                         | blond                                                                                                                       | fair                                                                                                                        | blue                                                                                                                        |  19.0                                                                                                                       | male                                                                                                                        | masculine                                                                                                                   | Tatooine                                                                                                                    | Human                                                                                                                       | The Empire Strikes Back, Revenge of the Sith    , Return of the Jedi     , A New Hope             , The Force Awakens       | Snowspeeder          , Imperial Speeder Bike                                                                                | X-wing          , Imperial shuttle                                                                                          |\n",
       "| C-3PO                                                                                                                                                | 167                                                                                                                                                  |  75                                                                                                                                                  | NA                                                                                                                                                   | gold                                                                                                                                                 | yellow                                                                                                                                               | 112.0                                                                                                                                                | none                                                                                                                                                 | masculine                                                                                                                                            | Tatooine                                                                                                                                             | Droid                                                                                                                                                | The Empire Strikes Back, Attack of the Clones   , The Phantom Menace     , Revenge of the Sith    , Return of the Jedi     , A New Hope              |                                                                                                                                                      |                                                                                                                                                      |\n",
       "| R2-D2                                                                                                                                                                         |  96                                                                                                                                                                           |  32                                                                                                                                                                           | NA                                                                                                                                                                            | white, blue                                                                                                                                                                   | red                                                                                                                                                                           |  33.0                                                                                                                                                                         | none                                                                                                                                                                          | masculine                                                                                                                                                                     | Naboo                                                                                                                                                                         | Droid                                                                                                                                                                         | The Empire Strikes Back, Attack of the Clones   , The Phantom Menace     , Revenge of the Sith    , Return of the Jedi     , A New Hope             , The Force Awakens       |                                                                                                                                                                               |                                                                                                                                                                               |\n",
       "| Darth Vader                                                                                        | 202                                                                                                | 136                                                                                                | none                                                                                               | white                                                                                              | yellow                                                                                             |  41.9                                                                                              | male                                                                                               | masculine                                                                                          | Tatooine                                                                                           | Human                                                                                              | The Empire Strikes Back, Revenge of the Sith    , Return of the Jedi     , A New Hope              |                                                                                                    | TIE Advanced x1                                                                                    |\n",
       "| Leia Organa                                                                                                                 | 150                                                                                                                         |  49                                                                                                                         | brown                                                                                                                       | light                                                                                                                       | brown                                                                                                                       |  19.0                                                                                                                       | female                                                                                                                      | feminine                                                                                                                    | Alderaan                                                                                                                    | Human                                                                                                                       | The Empire Strikes Back, Revenge of the Sith    , Return of the Jedi     , A New Hope             , The Force Awakens       | Imperial Speeder Bike                                                                                                       |                                                                                                                             |\n",
       "| Owen Lars                                                        | 178                                                              | 120                                                              | brown, grey                                                      | light                                                            | blue                                                             |  52.0                                                            | male                                                             | masculine                                                        | Tatooine                                                         | Human                                                            | Attack of the Clones, Revenge of the Sith , A New Hope           |                                                                  |                                                                  |\n",
       "\n"
      ],
      "text/plain": [
       "  name           height mass hair_color  skin_color  eye_color birth_year\n",
       "1 Luke Skywalker 172     77  blond       fair        blue       19.0     \n",
       "2 C-3PO          167     75  NA          gold        yellow    112.0     \n",
       "3 R2-D2           96     32  NA          white, blue red        33.0     \n",
       "4 Darth Vader    202    136  none        white       yellow     41.9     \n",
       "5 Leia Organa    150     49  brown       light       brown      19.0     \n",
       "6 Owen Lars      178    120  brown, grey light       blue       52.0     \n",
       "  sex    gender    homeworld species\n",
       "1 male   masculine Tatooine  Human  \n",
       "2 none   masculine Tatooine  Droid  \n",
       "3 none   masculine Naboo     Droid  \n",
       "4 male   masculine Tatooine  Human  \n",
       "5 female feminine  Alderaan  Human  \n",
       "6 male   masculine Tatooine  Human  \n",
       "  films                                                                                                                                                                        \n",
       "1 The Empire Strikes Back, Revenge of the Sith    , Return of the Jedi     , A New Hope             , The Force Awakens                                                        \n",
       "2 The Empire Strikes Back, Attack of the Clones   , The Phantom Menace     , Revenge of the Sith    , Return of the Jedi     , A New Hope                                      \n",
       "3 The Empire Strikes Back, Attack of the Clones   , The Phantom Menace     , Revenge of the Sith    , Return of the Jedi     , A New Hope             , The Force Awakens      \n",
       "4 The Empire Strikes Back, Revenge of the Sith    , Return of the Jedi     , A New Hope                                                                                        \n",
       "5 The Empire Strikes Back, Revenge of the Sith    , Return of the Jedi     , A New Hope             , The Force Awakens                                                        \n",
       "6 Attack of the Clones, Revenge of the Sith , A New Hope                                                                                                                       \n",
       "  vehicles                                    \n",
       "1 Snowspeeder          , Imperial Speeder Bike\n",
       "2                                             \n",
       "3                                             \n",
       "4                                             \n",
       "5 Imperial Speeder Bike                       \n",
       "6                                             \n",
       "  starships                         \n",
       "1 X-wing          , Imperial shuttle\n",
       "2                                   \n",
       "3                                   \n",
       "4 TIE Advanced x1                   \n",
       "5                                   \n",
       "6                                   "
      ]
     },
     "metadata": {},
     "output_type": "display_data"
    }
   ],
   "source": [
    "head(starwars[starwars$eye_color=='blue' && starwars$hair_color==\"blond\"])"
   ]
  },
  {
   "cell_type": "markdown",
   "metadata": {},
   "source": [
    "<h6>Practice: Do a time comparison between the two methods.</h6>"
   ]
  },
  {
   "cell_type": "code",
   "execution_count": 160,
   "metadata": {},
   "outputs": [],
   "source": [
    "#Place to practice"
   ]
  },
  {
   "cell_type": "markdown",
   "metadata": {},
   "source": [
    "<h6>Arrange by descending order in a column</h6>"
   ]
  },
  {
   "cell_type": "code",
   "execution_count": 163,
   "metadata": {
    "scrolled": true
   },
   "outputs": [
    {
     "data": {
      "text/html": [
       "<table>\n",
       "<thead><tr><th scope=col>name</th><th scope=col>height</th><th scope=col>mass</th><th scope=col>hair_color</th><th scope=col>skin_color</th><th scope=col>eye_color</th><th scope=col>birth_year</th><th scope=col>sex</th><th scope=col>gender</th><th scope=col>homeworld</th><th scope=col>species</th><th scope=col>films</th><th scope=col>vehicles</th><th scope=col>starships</th></tr></thead>\n",
       "<tbody>\n",
       "\t<tr><td>Yarael Poof       </td><td>264               </td><td> NA               </td><td>none              </td><td>white             </td><td>yellow            </td><td> NA               </td><td>male              </td><td>masculine         </td><td>Quermia           </td><td>Quermian          </td><td>The Phantom Menace</td><td>                  </td><td>                  </td></tr>\n",
       "\t<tr><td>Tarfful            </td><td>234                </td><td>136                </td><td>brown              </td><td>brown              </td><td>blue               </td><td> NA                </td><td>male               </td><td>masculine          </td><td>Kashyyyk           </td><td>Wookiee            </td><td>Revenge of the Sith</td><td>                   </td><td>                   </td></tr>\n",
       "\t<tr><td>Lama Su             </td><td>229                 </td><td> 88                 </td><td>none                </td><td>grey                </td><td>black               </td><td> NA                 </td><td>male                </td><td>masculine           </td><td>Kamino              </td><td>Kaminoan            </td><td>Attack of the Clones</td><td>                    </td><td>                    </td></tr>\n",
       "\t<tr><td>Chewbacca                                                                                                                  </td><td>228                                                                                                                        </td><td>112                                                                                                                        </td><td>brown                                                                                                                      </td><td>unknown                                                                                                                    </td><td>blue                                                                                                                       </td><td>200                                                                                                                        </td><td>male                                                                                                                       </td><td>masculine                                                                                                                  </td><td>Kashyyyk                                                                                                                   </td><td>Wookiee                                                                                                                    </td><td>The Empire Strikes Back, Revenge of the Sith    , Return of the Jedi     , A New Hope             , The Force Awakens      </td><td>AT-ST                                                                                                                      </td><td>Millennium Falcon, Imperial shuttle                                                                                        </td></tr>\n",
       "\t<tr><td>Roos Tarpals      </td><td>224               </td><td> 82               </td><td>none              </td><td>grey              </td><td>orange            </td><td> NA               </td><td>male              </td><td>masculine         </td><td>Naboo             </td><td>Gungan            </td><td>The Phantom Menace</td><td>                  </td><td>                  </td></tr>\n",
       "\t<tr><td>Grievous                   </td><td>216                        </td><td>159                        </td><td>none                       </td><td>brown, white               </td><td>green, yellow              </td><td> NA                        </td><td>male                       </td><td>masculine                  </td><td>Kalee                      </td><td>Kaleesh                    </td><td>Revenge of the Sith        </td><td>Tsmeu-6 personal wheel bike</td><td>Belbullab-22 starfighter   </td></tr>\n",
       "</tbody>\n",
       "</table>\n"
      ],
      "text/latex": [
       "\\begin{tabular}{r|llllllllllllll}\n",
       " name & height & mass & hair\\_color & skin\\_color & eye\\_color & birth\\_year & sex & gender & homeworld & species & films & vehicles & starships\\\\\n",
       "\\hline\n",
       "\t Yarael Poof        & 264                &  NA                & none               & white              & yellow             &  NA                & male               & masculine          & Quermia            & Quermian           & The Phantom Menace &                    &                   \\\\\n",
       "\t Tarfful             & 234                 & 136                 & brown               & brown               & blue                &  NA                 & male                & masculine           & Kashyyyk            & Wookiee             & Revenge of the Sith &                     &                    \\\\\n",
       "\t Lama Su              & 229                  &  88                  & none                 & grey                 & black                &  NA                  & male                 & masculine            & Kamino               & Kaminoan             & Attack of the Clones &                      &                     \\\\\n",
       "\t Chewbacca                                                                                                                   & 228                                                                                                                         & 112                                                                                                                         & brown                                                                                                                       & unknown                                                                                                                     & blue                                                                                                                        & 200                                                                                                                         & male                                                                                                                        & masculine                                                                                                                   & Kashyyyk                                                                                                                    & Wookiee                                                                                                                     & The Empire Strikes Back, Revenge of the Sith    , Return of the Jedi     , A New Hope             , The Force Awakens       & AT-ST                                                                                                                       & Millennium Falcon, Imperial shuttle                                                                                        \\\\\n",
       "\t Roos Tarpals       & 224                &  82                & none               & grey               & orange             &  NA                & male               & masculine          & Naboo              & Gungan             & The Phantom Menace &                    &                   \\\\\n",
       "\t Grievous                    & 216                         & 159                         & none                        & brown, white                & green, yellow               &  NA                         & male                        & masculine                   & Kalee                       & Kaleesh                     & Revenge of the Sith         & Tsmeu-6 personal wheel bike & Belbullab-22 starfighter   \\\\\n",
       "\\end{tabular}\n"
      ],
      "text/markdown": [
       "\n",
       "| name | height | mass | hair_color | skin_color | eye_color | birth_year | sex | gender | homeworld | species | films | vehicles | starships |\n",
       "|---|---|---|---|---|---|---|---|---|---|---|---|---|---|\n",
       "| Yarael Poof        | 264                |  NA                | none               | white              | yellow             |  NA                | male               | masculine          | Quermia            | Quermian           | The Phantom Menace |                    |                    |\n",
       "| Tarfful             | 234                 | 136                 | brown               | brown               | blue                |  NA                 | male                | masculine           | Kashyyyk            | Wookiee             | Revenge of the Sith |                     |                     |\n",
       "| Lama Su              | 229                  |  88                  | none                 | grey                 | black                |  NA                  | male                 | masculine            | Kamino               | Kaminoan             | Attack of the Clones |                      |                      |\n",
       "| Chewbacca                                                                                                                   | 228                                                                                                                         | 112                                                                                                                         | brown                                                                                                                       | unknown                                                                                                                     | blue                                                                                                                        | 200                                                                                                                         | male                                                                                                                        | masculine                                                                                                                   | Kashyyyk                                                                                                                    | Wookiee                                                                                                                     | The Empire Strikes Back, Revenge of the Sith    , Return of the Jedi     , A New Hope             , The Force Awakens       | AT-ST                                                                                                                       | Millennium Falcon, Imperial shuttle                                                                                         |\n",
       "| Roos Tarpals       | 224                |  82                | none               | grey               | orange             |  NA                | male               | masculine          | Naboo              | Gungan             | The Phantom Menace |                    |                    |\n",
       "| Grievous                    | 216                         | 159                         | none                        | brown, white                | green, yellow               |  NA                         | male                        | masculine                   | Kalee                       | Kaleesh                     | Revenge of the Sith         | Tsmeu-6 personal wheel bike | Belbullab-22 starfighter    |\n",
       "\n"
      ],
      "text/plain": [
       "  name         height mass hair_color skin_color   eye_color     birth_year\n",
       "1 Yarael Poof  264     NA  none       white        yellow         NA       \n",
       "2 Tarfful      234    136  brown      brown        blue           NA       \n",
       "3 Lama Su      229     88  none       grey         black          NA       \n",
       "4 Chewbacca    228    112  brown      unknown      blue          200       \n",
       "5 Roos Tarpals 224     82  none       grey         orange         NA       \n",
       "6 Grievous     216    159  none       brown, white green, yellow  NA       \n",
       "  sex  gender    homeworld species \n",
       "1 male masculine Quermia   Quermian\n",
       "2 male masculine Kashyyyk  Wookiee \n",
       "3 male masculine Kamino    Kaminoan\n",
       "4 male masculine Kashyyyk  Wookiee \n",
       "5 male masculine Naboo     Gungan  \n",
       "6 male masculine Kalee     Kaleesh \n",
       "  films                                                                                                                      \n",
       "1 The Phantom Menace                                                                                                         \n",
       "2 Revenge of the Sith                                                                                                        \n",
       "3 Attack of the Clones                                                                                                       \n",
       "4 The Empire Strikes Back, Revenge of the Sith    , Return of the Jedi     , A New Hope             , The Force Awakens      \n",
       "5 The Phantom Menace                                                                                                         \n",
       "6 Revenge of the Sith                                                                                                        \n",
       "  vehicles                    starships                           \n",
       "1                                                                 \n",
       "2                                                                 \n",
       "3                                                                 \n",
       "4 AT-ST                       Millennium Falcon, Imperial shuttle \n",
       "5                                                                 \n",
       "6 Tsmeu-6 personal wheel bike Belbullab-22 starfighter            "
      ]
     },
     "metadata": {},
     "output_type": "display_data"
    }
   ],
   "source": [
    "head(starwars %>% arrange(desc(height)))"
   ]
  },
  {
   "cell_type": "markdown",
   "metadata": {},
   "source": [
    "<h6>Select specific columns</h6>"
   ]
  },
  {
   "cell_type": "code",
   "execution_count": 167,
   "metadata": {},
   "outputs": [
    {
     "data": {
      "text/html": [
       "<table>\n",
       "<thead><tr><th scope=col>height</th><th scope=col>skin_color</th></tr></thead>\n",
       "<tbody>\n",
       "\t<tr><td>172        </td><td>fair       </td></tr>\n",
       "\t<tr><td>167        </td><td>gold       </td></tr>\n",
       "\t<tr><td> 96        </td><td>white, blue</td></tr>\n",
       "\t<tr><td>202        </td><td>white      </td></tr>\n",
       "\t<tr><td>150        </td><td>light      </td></tr>\n",
       "\t<tr><td>178        </td><td>light      </td></tr>\n",
       "</tbody>\n",
       "</table>\n"
      ],
      "text/latex": [
       "\\begin{tabular}{r|ll}\n",
       " height & skin\\_color\\\\\n",
       "\\hline\n",
       "\t 172         & fair       \\\\\n",
       "\t 167         & gold       \\\\\n",
       "\t  96         & white, blue\\\\\n",
       "\t 202         & white      \\\\\n",
       "\t 150         & light      \\\\\n",
       "\t 178         & light      \\\\\n",
       "\\end{tabular}\n"
      ],
      "text/markdown": [
       "\n",
       "| height | skin_color |\n",
       "|---|---|\n",
       "| 172         | fair        |\n",
       "| 167         | gold        |\n",
       "|  96         | white, blue |\n",
       "| 202         | white       |\n",
       "| 150         | light       |\n",
       "| 178         | light       |\n",
       "\n"
      ],
      "text/plain": [
       "  height skin_color \n",
       "1 172    fair       \n",
       "2 167    gold       \n",
       "3  96    white, blue\n",
       "4 202    white      \n",
       "5 150    light      \n",
       "6 178    light      "
      ]
     },
     "metadata": {},
     "output_type": "display_data"
    }
   ],
   "source": [
    "head(starwars %>% select(c(height, skin_color)))"
   ]
  },
  {
   "cell_type": "markdown",
   "metadata": {},
   "source": [
    "<h6>Practice: Install the ggplot2 package before loading in R below</h6>"
   ]
  },
  {
   "cell_type": "code",
   "execution_count": null,
   "metadata": {},
   "outputs": [],
   "source": [
    "#install ggplot 2 here"
   ]
  },
  {
   "cell_type": "code",
   "execution_count": 170,
   "metadata": {},
   "outputs": [],
   "source": [
    "library(ggplot2)"
   ]
  },
  {
   "cell_type": "markdown",
   "metadata": {},
   "source": [
    "<h6>Use ggplot to plot the dataset</h6>"
   ]
  },
  {
   "cell_type": "code",
   "execution_count": 176,
   "metadata": {},
   "outputs": [
    {
     "name": "stderr",
     "output_type": "stream",
     "text": [
      "Warning message:\n",
      "“Removed 28 rows containing missing values (geom_point).”"
     ]
    },
    {
     "data": {
      "image/png": "[encoded data removed]",
      "text/plain": [
       "plot without title"
      ]
     },
     "metadata": {},
     "output_type": "display_data"
    }
   ],
   "source": [
    "ggplot(data=starwars, mapping=aes(x=height, y=mass)) +geom_point() + theme_bw()"
   ]
  },
  {
   "cell_type": "markdown",
   "metadata": {},
   "source": [
    "<h3>Congratulations! You have reached the end of this tutorial.</h3>"
   ]
  },
  {
   "cell_type": "markdown",
   "metadata": {},
   "source": [
    "<em>Texas A&M University <br>\n",
    "Bryan, Texas, Summer 2022 <br>\n",
    "**==</em>\n",
    "<br>\n",
    "<br>\n",
    "<p>Annice was here :)</p>"
   ]
  }
 ],
 "metadata": {
  "kernelspec": {
   "display_name": "R",
   "language": "R",
   "name": "ir"
  },
  "language_info": {
   "codemirror_mode": "r",
   "file_extension": ".r",
   "mimetype": "text/x-r-source",
   "name": "R",
   "pygments_lexer": "r",
   "version": "3.6.1"
  }
 },
 "nbformat": 4,
 "nbformat_minor": 1
}
